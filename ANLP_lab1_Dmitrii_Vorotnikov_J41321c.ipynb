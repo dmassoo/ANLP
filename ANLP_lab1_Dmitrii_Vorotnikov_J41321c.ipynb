{
  "nbformat": 4,
  "nbformat_minor": 0,
  "metadata": {
    "kernelspec": {
      "display_name": "Python 3",
      "language": "python",
      "name": "python3"
    },
    "language_info": {
      "codemirror_mode": {
        "name": "ipython",
        "version": 3
      },
      "file_extension": ".py",
      "mimetype": "text/x-python",
      "name": "python",
      "nbconvert_exporter": "python",
      "pygments_lexer": "ipython3",
      "version": "3.8.5"
    },
    "colab": {
      "name": "ANLP_lab1_Dmitrii_Vorotnikov_J41321c.ipynb",
      "provenance": [],
      "collapsed_sections": [],
      "include_colab_link": true
    }
  },
  "cells": [
    {
      "cell_type": "markdown",
      "metadata": {
        "id": "view-in-github",
        "colab_type": "text"
      },
      "source": [
        "<a href=\"https://colab.research.google.com/github/dmassoo/ANLP/blob/main/ANLP_lab1_Dmitrii_Vorotnikov_J41321c.ipynb\" target=\"_parent\"><img src=\"https://colab.research.google.com/assets/colab-badge.svg\" alt=\"Open In Colab\"/></a>"
      ]
    },
    {
      "cell_type": "markdown",
      "metadata": {
        "id": "TEEKQwtYDMUz"
      },
      "source": [
        "**SOFT DEADLINE:** `20.03.2022 23:59 msk` "
      ]
    },
    {
      "cell_type": "markdown",
      "metadata": {
        "id": "g-IAo9sYDMU-"
      },
      "source": [
        "# [5 points] Part 1. Data cleaning"
      ]
    },
    {
      "cell_type": "markdown",
      "metadata": {
        "id": "-SNyjuGjDMU_"
      },
      "source": [
        "The task is to clear the text data of the crawled web-pages from different sites. \n",
        "\n",
        "It is necessary to ensure that the distribution of the 100 most frequent words includes only meaningful words in english language (not particles, conjunctions, prepositions, numbers, tags, symbols)."
      ]
    },
    {
      "cell_type": "markdown",
      "metadata": {
        "id": "TA4VkGl2DMVB"
      },
      "source": [
        "Determine the order of operations below and carry out the appropriate cleaning.\n",
        "\n",
        "1. Remove non-english words\n",
        "1. Remove html-tags (try to do it with regular expression, or play with beautifulsoap library)\n",
        "1. Apply lemmatization / stemming\n",
        "1. Remove stop-words\n",
        "1. Additional processing - At your own initiative, if this helps to obtain a better distribution"
      ]
    },
    {
      "cell_type": "markdown",
      "metadata": {
        "id": "hjLsB9pdDMVC"
      },
      "source": [
        "#### Hints"
      ]
    },
    {
      "cell_type": "markdown",
      "metadata": {
        "id": "mk6ZLncvDMVD"
      },
      "source": [
        "1. To do text processing you may use nltk and re libraries\n",
        "1. and / or any other libraries on your choise"
      ]
    },
    {
      "cell_type": "markdown",
      "metadata": {
        "id": "KCbTa1OiDMVE"
      },
      "source": [
        "#### Data reading"
      ]
    },
    {
      "cell_type": "markdown",
      "metadata": {
        "id": "cXbG649IDMVG"
      },
      "source": [
        "The dataset for this part can be downloaded here: `https://drive.google.com/file/d/1wLwo83J-ikCCZY2RAoYx8NghaSaQ-lBA/view?usp=sharing`"
      ]
    },
    {
      "cell_type": "code",
      "source": [
        "from google.colab import drive\n",
        "drive.mount('/content/drive')"
      ],
      "metadata": {
        "colab": {
          "base_uri": "https://localhost:8080/"
        },
        "id": "J9g4bvUuhAZE",
        "outputId": "90d96373-0d5e-484a-ee4e-272c18a86902"
      },
      "execution_count": 2,
      "outputs": [
        {
          "output_type": "stream",
          "name": "stdout",
          "text": [
            "Mounted at /content/drive\n"
          ]
        }
      ]
    },
    {
      "cell_type": "code",
      "metadata": {
        "id": "HN8UxSDkDMVH"
      },
      "source": [
        "import pandas as pd\n",
        "all_docs_df = pd.read_csv('/content/drive/MyDrive/ANLP/web_sites_data.csv')"
      ],
      "execution_count": 3,
      "outputs": []
    },
    {
      "cell_type": "code",
      "source": [
        "all_docs_df.head()"
      ],
      "metadata": {
        "colab": {
          "base_uri": "https://localhost:8080/",
          "height": 206
        },
        "id": "1_WQBYNYdoE9",
        "outputId": "c7ff3f68-5030-4c63-8f76-28713eb01a10"
      },
      "execution_count": 4,
      "outputs": [
        {
          "output_type": "execute_result",
          "data": {
            "text/plain": [
              "                                                text\n",
              "0  <html>\\n<head profile=\"http://www.w3.org/2005/...\n",
              "1  <html>\\n<head profile=\"http://www.w3.org/2005/...\n",
              "2  <html>\\n<head profile=\"http://www.w3.org/2005/...\n",
              "3  <html>\\n<head profile=\"http://www.w3.org/2005/...\n",
              "4  <html>\\n<head profile=\"http://www.w3.org/2005/..."
            ],
            "text/html": [
              "\n",
              "  <div id=\"df-c475ef18-0f50-4692-a94e-598ff180e2bc\">\n",
              "    <div class=\"colab-df-container\">\n",
              "      <div>\n",
              "<style scoped>\n",
              "    .dataframe tbody tr th:only-of-type {\n",
              "        vertical-align: middle;\n",
              "    }\n",
              "\n",
              "    .dataframe tbody tr th {\n",
              "        vertical-align: top;\n",
              "    }\n",
              "\n",
              "    .dataframe thead th {\n",
              "        text-align: right;\n",
              "    }\n",
              "</style>\n",
              "<table border=\"1\" class=\"dataframe\">\n",
              "  <thead>\n",
              "    <tr style=\"text-align: right;\">\n",
              "      <th></th>\n",
              "      <th>text</th>\n",
              "    </tr>\n",
              "  </thead>\n",
              "  <tbody>\n",
              "    <tr>\n",
              "      <th>0</th>\n",
              "      <td>&lt;html&gt;\\n&lt;head profile=\"http://www.w3.org/2005/...</td>\n",
              "    </tr>\n",
              "    <tr>\n",
              "      <th>1</th>\n",
              "      <td>&lt;html&gt;\\n&lt;head profile=\"http://www.w3.org/2005/...</td>\n",
              "    </tr>\n",
              "    <tr>\n",
              "      <th>2</th>\n",
              "      <td>&lt;html&gt;\\n&lt;head profile=\"http://www.w3.org/2005/...</td>\n",
              "    </tr>\n",
              "    <tr>\n",
              "      <th>3</th>\n",
              "      <td>&lt;html&gt;\\n&lt;head profile=\"http://www.w3.org/2005/...</td>\n",
              "    </tr>\n",
              "    <tr>\n",
              "      <th>4</th>\n",
              "      <td>&lt;html&gt;\\n&lt;head profile=\"http://www.w3.org/2005/...</td>\n",
              "    </tr>\n",
              "  </tbody>\n",
              "</table>\n",
              "</div>\n",
              "      <button class=\"colab-df-convert\" onclick=\"convertToInteractive('df-c475ef18-0f50-4692-a94e-598ff180e2bc')\"\n",
              "              title=\"Convert this dataframe to an interactive table.\"\n",
              "              style=\"display:none;\">\n",
              "        \n",
              "  <svg xmlns=\"http://www.w3.org/2000/svg\" height=\"24px\"viewBox=\"0 0 24 24\"\n",
              "       width=\"24px\">\n",
              "    <path d=\"M0 0h24v24H0V0z\" fill=\"none\"/>\n",
              "    <path d=\"M18.56 5.44l.94 2.06.94-2.06 2.06-.94-2.06-.94-.94-2.06-.94 2.06-2.06.94zm-11 1L8.5 8.5l.94-2.06 2.06-.94-2.06-.94L8.5 2.5l-.94 2.06-2.06.94zm10 10l.94 2.06.94-2.06 2.06-.94-2.06-.94-.94-2.06-.94 2.06-2.06.94z\"/><path d=\"M17.41 7.96l-1.37-1.37c-.4-.4-.92-.59-1.43-.59-.52 0-1.04.2-1.43.59L10.3 9.45l-7.72 7.72c-.78.78-.78 2.05 0 2.83L4 21.41c.39.39.9.59 1.41.59.51 0 1.02-.2 1.41-.59l7.78-7.78 2.81-2.81c.8-.78.8-2.07 0-2.86zM5.41 20L4 18.59l7.72-7.72 1.47 1.35L5.41 20z\"/>\n",
              "  </svg>\n",
              "      </button>\n",
              "      \n",
              "  <style>\n",
              "    .colab-df-container {\n",
              "      display:flex;\n",
              "      flex-wrap:wrap;\n",
              "      gap: 12px;\n",
              "    }\n",
              "\n",
              "    .colab-df-convert {\n",
              "      background-color: #E8F0FE;\n",
              "      border: none;\n",
              "      border-radius: 50%;\n",
              "      cursor: pointer;\n",
              "      display: none;\n",
              "      fill: #1967D2;\n",
              "      height: 32px;\n",
              "      padding: 0 0 0 0;\n",
              "      width: 32px;\n",
              "    }\n",
              "\n",
              "    .colab-df-convert:hover {\n",
              "      background-color: #E2EBFA;\n",
              "      box-shadow: 0px 1px 2px rgba(60, 64, 67, 0.3), 0px 1px 3px 1px rgba(60, 64, 67, 0.15);\n",
              "      fill: #174EA6;\n",
              "    }\n",
              "\n",
              "    [theme=dark] .colab-df-convert {\n",
              "      background-color: #3B4455;\n",
              "      fill: #D2E3FC;\n",
              "    }\n",
              "\n",
              "    [theme=dark] .colab-df-convert:hover {\n",
              "      background-color: #434B5C;\n",
              "      box-shadow: 0px 1px 3px 1px rgba(0, 0, 0, 0.15);\n",
              "      filter: drop-shadow(0px 1px 2px rgba(0, 0, 0, 0.3));\n",
              "      fill: #FFFFFF;\n",
              "    }\n",
              "  </style>\n",
              "\n",
              "      <script>\n",
              "        const buttonEl =\n",
              "          document.querySelector('#df-c475ef18-0f50-4692-a94e-598ff180e2bc button.colab-df-convert');\n",
              "        buttonEl.style.display =\n",
              "          google.colab.kernel.accessAllowed ? 'block' : 'none';\n",
              "\n",
              "        async function convertToInteractive(key) {\n",
              "          const element = document.querySelector('#df-c475ef18-0f50-4692-a94e-598ff180e2bc');\n",
              "          const dataTable =\n",
              "            await google.colab.kernel.invokeFunction('convertToInteractive',\n",
              "                                                     [key], {});\n",
              "          if (!dataTable) return;\n",
              "\n",
              "          const docLinkHtml = 'Like what you see? Visit the ' +\n",
              "            '<a target=\"_blank\" href=https://colab.research.google.com/notebooks/data_table.ipynb>data table notebook</a>'\n",
              "            + ' to learn more about interactive tables.';\n",
              "          element.innerHTML = '';\n",
              "          dataTable['output_type'] = 'display_data';\n",
              "          await google.colab.output.renderOutput(dataTable, element);\n",
              "          const docLink = document.createElement('div');\n",
              "          docLink.innerHTML = docLinkHtml;\n",
              "          element.appendChild(docLink);\n",
              "        }\n",
              "      </script>\n",
              "    </div>\n",
              "  </div>\n",
              "  "
            ]
          },
          "metadata": {},
          "execution_count": 4
        }
      ]
    },
    {
      "cell_type": "code",
      "source": [
        "df = all_docs_df.loc[:1000]"
      ],
      "metadata": {
        "id": "OWeI7fdXJe9m"
      },
      "execution_count": 85,
      "outputs": []
    },
    {
      "cell_type": "markdown",
      "metadata": {
        "id": "fGBTg9g4DMVJ"
      },
      "source": [
        "#### Data processing"
      ]
    },
    {
      "cell_type": "code",
      "source": [
        "import nltk\n",
        "nltk.download('words')\n",
        "nltk.download('punkt')\n",
        "nltk.download('wordnet')\n",
        "nltk.download('stopwords')\n",
        "from nltk.stem import WordNetLemmatizer\n",
        "from nltk.tokenize import word_tokenize"
      ],
      "metadata": {
        "colab": {
          "base_uri": "https://localhost:8080/"
        },
        "id": "WyQO6EYpm_pu",
        "outputId": "b72b3778-a821-447e-e435-4f282110033a"
      },
      "execution_count": 86,
      "outputs": [
        {
          "output_type": "stream",
          "name": "stdout",
          "text": [
            "[nltk_data] Downloading package words to /root/nltk_data...\n",
            "[nltk_data]   Package words is already up-to-date!\n",
            "[nltk_data] Downloading package punkt to /root/nltk_data...\n",
            "[nltk_data]   Package punkt is already up-to-date!\n",
            "[nltk_data] Downloading package wordnet to /root/nltk_data...\n",
            "[nltk_data]   Package wordnet is already up-to-date!\n",
            "[nltk_data] Downloading package stopwords to /root/nltk_data...\n",
            "[nltk_data]   Package stopwords is already up-to-date!\n"
          ]
        }
      ]
    },
    {
      "cell_type": "code",
      "source": [
        "from bs4 import BeautifulSoup\n",
        "def remove_tags(html):\n",
        "    # parse html content\n",
        "    soup = BeautifulSoup(html, \"html.parser\")\n",
        "  \n",
        "    for data in soup(['style', 'script']):\n",
        "        # Remove tags\n",
        "        data.decompose()\n",
        "  \n",
        "    # return data by retrieving the tag content\n",
        "    return ' '.join(soup.stripped_strings)"
      ],
      "metadata": {
        "id": "ULuEATLhh8v3"
      },
      "execution_count": 87,
      "outputs": []
    },
    {
      "cell_type": "code",
      "source": [
        "from nltk.corpus import stopwords\n",
        "import re\n",
        "stopwords = set(stopwords.words('english'))\n",
        "def get_lemmatized_english_text(text):\n",
        "    pattern = re.compile(\"^[a-zA-Z]+$\")\n",
        "    lemmatizer = WordNetLemmatizer()\n",
        "    a = []\n",
        "    tokens = word_tokenize(text)\n",
        "    for token in tokens:\n",
        "         lemmatized_word = lemmatizer.lemmatize(token.lower())\n",
        "         # in assumption that corpus contains all words in dictionary form \n",
        "         if pattern.match(lemmatized_word) and lemmatized_word not in stopwords:\n",
        "             a.append(lemmatized_word)\n",
        "    text = \" \".join(a)\n",
        "    return text"
      ],
      "metadata": {
        "id": "216sPA81j_bz"
      },
      "execution_count": 117,
      "outputs": []
    },
    {
      "cell_type": "code",
      "source": [
        "lemmatizer = WordNetLemmatizer()\n",
        "lemmatizer.lemmatize(\"books\")"
      ],
      "metadata": {
        "colab": {
          "base_uri": "https://localhost:8080/",
          "height": 36
        },
        "id": "kGlWUSBp0JMO",
        "outputId": "135c13d5-fabc-4a59-9a45-54282112a44d"
      },
      "execution_count": 118,
      "outputs": [
        {
          "output_type": "execute_result",
          "data": {
            "text/plain": [
              "'book'"
            ],
            "application/vnd.google.colaboratory.intrinsic+json": {
              "type": "string"
            }
          },
          "metadata": {},
          "execution_count": 118
        }
      ]
    },
    {
      "cell_type": "code",
      "source": [
        "def clean_doc(text):\n",
        "    no_html = remove_tags(text)\n",
        "    return get_lemmatized_english_text(no_html)"
      ],
      "metadata": {
        "id": "5JYjrkUgrEdl"
      },
      "execution_count": 119,
      "outputs": []
    },
    {
      "cell_type": "code",
      "source": [
        "test_df = df.loc[0:2]"
      ],
      "metadata": {
        "id": "_Y4wqRdkmNJw"
      },
      "execution_count": 120,
      "outputs": []
    },
    {
      "cell_type": "code",
      "source": [
        "test_df = test_df.applymap(clean_doc)"
      ],
      "metadata": {
        "id": "Vs5b10WNmRbJ"
      },
      "execution_count": 121,
      "outputs": []
    },
    {
      "cell_type": "code",
      "source": [
        "test_df"
      ],
      "metadata": {
        "colab": {
          "base_uri": "https://localhost:8080/",
          "height": 143
        },
        "id": "XlEF-CBoKWyN",
        "outputId": "b1db5049-e498-464c-d971-b416a92c964f"
      },
      "execution_count": 122,
      "outputs": [
        {
          "output_type": "execute_result",
          "data": {
            "text/plain": [
              "                                                text\n",
              "0  eric newby love war apennines eric newby love ...\n",
              "1  eric newby short walk hindu kush eric newby sh...\n",
              "2  william wordsworth poetry wordsworth unabridge..."
            ],
            "text/html": [
              "\n",
              "  <div id=\"df-83717665-6f9d-4172-9298-beb6145dd6a5\">\n",
              "    <div class=\"colab-df-container\">\n",
              "      <div>\n",
              "<style scoped>\n",
              "    .dataframe tbody tr th:only-of-type {\n",
              "        vertical-align: middle;\n",
              "    }\n",
              "\n",
              "    .dataframe tbody tr th {\n",
              "        vertical-align: top;\n",
              "    }\n",
              "\n",
              "    .dataframe thead th {\n",
              "        text-align: right;\n",
              "    }\n",
              "</style>\n",
              "<table border=\"1\" class=\"dataframe\">\n",
              "  <thead>\n",
              "    <tr style=\"text-align: right;\">\n",
              "      <th></th>\n",
              "      <th>text</th>\n",
              "    </tr>\n",
              "  </thead>\n",
              "  <tbody>\n",
              "    <tr>\n",
              "      <th>0</th>\n",
              "      <td>eric newby love war apennines eric newby love ...</td>\n",
              "    </tr>\n",
              "    <tr>\n",
              "      <th>1</th>\n",
              "      <td>eric newby short walk hindu kush eric newby sh...</td>\n",
              "    </tr>\n",
              "    <tr>\n",
              "      <th>2</th>\n",
              "      <td>william wordsworth poetry wordsworth unabridge...</td>\n",
              "    </tr>\n",
              "  </tbody>\n",
              "</table>\n",
              "</div>\n",
              "      <button class=\"colab-df-convert\" onclick=\"convertToInteractive('df-83717665-6f9d-4172-9298-beb6145dd6a5')\"\n",
              "              title=\"Convert this dataframe to an interactive table.\"\n",
              "              style=\"display:none;\">\n",
              "        \n",
              "  <svg xmlns=\"http://www.w3.org/2000/svg\" height=\"24px\"viewBox=\"0 0 24 24\"\n",
              "       width=\"24px\">\n",
              "    <path d=\"M0 0h24v24H0V0z\" fill=\"none\"/>\n",
              "    <path d=\"M18.56 5.44l.94 2.06.94-2.06 2.06-.94-2.06-.94-.94-2.06-.94 2.06-2.06.94zm-11 1L8.5 8.5l.94-2.06 2.06-.94-2.06-.94L8.5 2.5l-.94 2.06-2.06.94zm10 10l.94 2.06.94-2.06 2.06-.94-2.06-.94-.94-2.06-.94 2.06-2.06.94z\"/><path d=\"M17.41 7.96l-1.37-1.37c-.4-.4-.92-.59-1.43-.59-.52 0-1.04.2-1.43.59L10.3 9.45l-7.72 7.72c-.78.78-.78 2.05 0 2.83L4 21.41c.39.39.9.59 1.41.59.51 0 1.02-.2 1.41-.59l7.78-7.78 2.81-2.81c.8-.78.8-2.07 0-2.86zM5.41 20L4 18.59l7.72-7.72 1.47 1.35L5.41 20z\"/>\n",
              "  </svg>\n",
              "      </button>\n",
              "      \n",
              "  <style>\n",
              "    .colab-df-container {\n",
              "      display:flex;\n",
              "      flex-wrap:wrap;\n",
              "      gap: 12px;\n",
              "    }\n",
              "\n",
              "    .colab-df-convert {\n",
              "      background-color: #E8F0FE;\n",
              "      border: none;\n",
              "      border-radius: 50%;\n",
              "      cursor: pointer;\n",
              "      display: none;\n",
              "      fill: #1967D2;\n",
              "      height: 32px;\n",
              "      padding: 0 0 0 0;\n",
              "      width: 32px;\n",
              "    }\n",
              "\n",
              "    .colab-df-convert:hover {\n",
              "      background-color: #E2EBFA;\n",
              "      box-shadow: 0px 1px 2px rgba(60, 64, 67, 0.3), 0px 1px 3px 1px rgba(60, 64, 67, 0.15);\n",
              "      fill: #174EA6;\n",
              "    }\n",
              "\n",
              "    [theme=dark] .colab-df-convert {\n",
              "      background-color: #3B4455;\n",
              "      fill: #D2E3FC;\n",
              "    }\n",
              "\n",
              "    [theme=dark] .colab-df-convert:hover {\n",
              "      background-color: #434B5C;\n",
              "      box-shadow: 0px 1px 3px 1px rgba(0, 0, 0, 0.15);\n",
              "      filter: drop-shadow(0px 1px 2px rgba(0, 0, 0, 0.3));\n",
              "      fill: #FFFFFF;\n",
              "    }\n",
              "  </style>\n",
              "\n",
              "      <script>\n",
              "        const buttonEl =\n",
              "          document.querySelector('#df-83717665-6f9d-4172-9298-beb6145dd6a5 button.colab-df-convert');\n",
              "        buttonEl.style.display =\n",
              "          google.colab.kernel.accessAllowed ? 'block' : 'none';\n",
              "\n",
              "        async function convertToInteractive(key) {\n",
              "          const element = document.querySelector('#df-83717665-6f9d-4172-9298-beb6145dd6a5');\n",
              "          const dataTable =\n",
              "            await google.colab.kernel.invokeFunction('convertToInteractive',\n",
              "                                                     [key], {});\n",
              "          if (!dataTable) return;\n",
              "\n",
              "          const docLinkHtml = 'Like what you see? Visit the ' +\n",
              "            '<a target=\"_blank\" href=https://colab.research.google.com/notebooks/data_table.ipynb>data table notebook</a>'\n",
              "            + ' to learn more about interactive tables.';\n",
              "          element.innerHTML = '';\n",
              "          dataTable['output_type'] = 'display_data';\n",
              "          await google.colab.output.renderOutput(dataTable, element);\n",
              "          const docLink = document.createElement('div');\n",
              "          docLink.innerHTML = docLinkHtml;\n",
              "          element.appendChild(docLink);\n",
              "        }\n",
              "      </script>\n",
              "    </div>\n",
              "  </div>\n",
              "  "
            ]
          },
          "metadata": {},
          "execution_count": 122
        }
      ]
    },
    {
      "cell_type": "code",
      "source": [
        "df = df.applymap(clean_doc)"
      ],
      "metadata": {
        "id": "LRE9bwveKvug"
      },
      "execution_count": 123,
      "outputs": []
    },
    {
      "cell_type": "markdown",
      "metadata": {
        "id": "_h_c-1kBDMVN"
      },
      "source": [
        "#### Vizualization"
      ]
    },
    {
      "cell_type": "markdown",
      "metadata": {
        "id": "HTu83iAWDMVN"
      },
      "source": [
        "As a visualisation, it is necessary to construct a frequency distribution of words (the 100 most common words), sorted by frequency. \n",
        "\n",
        "For visualization purposes we advice you to use plotly, but you are free to choose other libraries"
      ]
    },
    {
      "cell_type": "code",
      "metadata": {
        "id": "bHX6IXcrDMVO",
        "colab": {
          "base_uri": "https://localhost:8080/"
        },
        "outputId": "03d2e5d3-405f-402c-fa1b-01fd0e81e0ee"
      },
      "source": [
        "all_terms = ' '.join(df[\"text\"]).split()\n",
        "\n",
        "from collections import Counter\n",
        "Counter = Counter(all_terms)\n",
        "  \n",
        "# most_common() produces k frequently encountered\n",
        "# input values and their respective counts.\n",
        "most_occur = Counter.most_common(100)\n",
        "  \n",
        "print(most_occur)"
      ],
      "execution_count": 124,
      "outputs": [
        {
          "output_type": "stream",
          "name": "stdout",
          "text": [
            "[('book', 11268), ('kindle', 5738), ('review', 5171), ('amazon', 4614), ('star', 4481), ('game', 4009), ('publisher', 3893), ('customer', 3886), ('video', 3396), ('u', 3323), ('free', 3079), ('new', 2996), ('cloud', 2993), ('item', 2945), ('product', 2924), ('home', 2875), ('audio', 2728), ('help', 2687), ('music', 2609), ('see', 2474), ('edition', 2424), ('paperback', 2391), ('list', 2333), ('read', 2313), ('page', 2211), ('movie', 2206), ('feedback', 2154), ('tv', 2143), ('apps', 2136), ('search', 2078), ('date', 2044), ('store', 2018), ('show', 1944), ('history', 1935), ('accessory', 1908), ('prime', 1884), ('wa', 1832), ('like', 1799), ('author', 1786), ('fire', 1724), ('player', 1710), ('instant', 1702), ('published', 1617), ('sport', 1594), ('gift', 1579), ('wish', 1545), ('shop', 1523), ('android', 1520), ('science', 1515), ('baby', 1512), ('drive', 1511), ('shipping', 1510), ('detail', 1499), ('library', 1492), ('get', 1488), ('software', 1488), ('clothing', 1484), ('health', 1458), ('guide', 1451), ('cassette', 1446), ('first', 1405), ('harpercollins', 1402), ('fiction', 1382), ('business', 1365), ('audible', 1365), ('right', 1344), ('one', 1331), ('format', 1330), ('beauty', 1328), ('online', 1325), ('find', 1316), ('seller', 1280), ('card', 1274), ('electronics', 1272), ('collins', 1270), ('would', 1261), ('nook', 1216), ('toy', 1207), ('price', 1202), ('buy', 1191), ('contact', 1190), ('ha', 1189), ('sell', 1177), ('write', 1168), ('sign', 1147), ('watch', 1144), ('play', 1137), ('add', 1134), ('condition', 1129), ('description', 1128), ('life', 1127), ('isbn', 1121), ('used', 1114), ('child', 1111), ('digital', 1108), ('give', 1105), ('blackwell', 1104), ('pub', 1103), ('computer', 1101), ('tool', 1084)]\n"
          ]
        }
      ]
    },
    {
      "cell_type": "code",
      "source": [
        "# word freq vs word\n",
        "import matplotlib.pyplot as plt\n",
        "plt.figure(figsize=(16, 6))\n",
        "plt.bar(range(len(most_occur)), [val[1] for val in most_occur], align='center')\n",
        "plt.xticks(range(len(most_occur)), [val[0] for val in most_occur])\n",
        "plt.xticks(rotation=70)\n",
        "plt.show()"
      ],
      "metadata": {
        "colab": {
          "base_uri": "https://localhost:8080/",
          "height": 427
        },
        "id": "gMS82_qGMa5A",
        "outputId": "4966ed89-a0d6-440b-9939-e0259e1acb00"
      },
      "execution_count": 125,
      "outputs": [
        {
          "output_type": "display_data",
          "data": {
            "text/plain": [
              "<Figure size 1152x432 with 1 Axes>"
            ],
            "image/png": "[encoded data removed]"
          },
          "metadata": {
            "needs_background": "light"
          }
        }
      ]
    },
    {
      "cell_type": "markdown",
      "metadata": {
        "id": "5ZxcPfLTDMVO"
      },
      "source": [
        "#### Provide examples of processed text (some parts)\n",
        "\n",
        "Is everything all right with the result of cleaning these examples? What kind of information was lost?"
      ]
    },
    {
      "cell_type": "code",
      "metadata": {
        "id": "2BSMfa9lDMVP",
        "colab": {
          "base_uri": "https://localhost:8080/"
        },
        "outputId": "bac4f8c9-f365-46ce-bc4f-74044fec96a7"
      },
      "source": [
        "df.loc[0][:250]"
      ],
      "execution_count": 126,
      "outputs": [
        {
          "output_type": "execute_result",
          "data": {
            "text/plain": [
              "text    eric newby love war apennines eric newby love ...\n",
              "Name: 0, dtype: object"
            ]
          },
          "metadata": {},
          "execution_count": 126
        }
      ]
    },
    {
      "cell_type": "code",
      "metadata": {
        "id": "0xn6XK7UDMVP",
        "colab": {
          "base_uri": "https://localhost:8080/"
        },
        "outputId": "2d9f0023-10a6-418f-a7ea-b51ef3df41bd"
      },
      "source": [
        "df.loc[100][:250]"
      ],
      "execution_count": 127,
      "outputs": [
        {
          "output_type": "execute_result",
          "data": {
            "text/plain": [
              "text    bible bible nrsv bible bible nrsv author title...\n",
              "Name: 100, dtype: object"
            ]
          },
          "metadata": {},
          "execution_count": 127
        }
      ]
    },
    {
      "cell_type": "markdown",
      "metadata": {
        "id": "IlSeYg4sDMVQ"
      },
      "source": [
        "# [10 points] Part 2. Duplicates detection. LSH"
      ]
    },
    {
      "cell_type": "markdown",
      "metadata": {
        "id": "ZuMBHSiDDMVR"
      },
      "source": [
        "#### Libraries you can use\n",
        "\n",
        "1. LSH - https://github.com/ekzhu/datasketch\n",
        "1. LSH - https://github.com/mattilyra/LSH\n",
        "1. Any other library on your choise"
      ]
    },
    {
      "cell_type": "markdown",
      "metadata": {
        "id": "uff5aBpgDMVR"
      },
      "source": [
        "1. Detect duplicated text (duplicates do not imply a complete word-to-word match, but texts that may contain a paraphrase, rearrangement of words, sentences)\n",
        "1. Make a plot dependency of duplicates on shingle size (with fixed minhash length) \n",
        "1. Make a plot dependency of duplicates on minhash length (with fixed shingle size)"
      ]
    },
    {
      "cell_type": "markdown",
      "source": [
        ""
      ],
      "metadata": {
        "id": "aRqfTh2CfdVK"
      }
    },
    {
      "cell_type": "code",
      "source": [
        "pip install datasketch"
      ],
      "metadata": {
        "colab": {
          "base_uri": "https://localhost:8080/"
        },
        "id": "_rWc0_GRixY6",
        "outputId": "8a447194-e961-4e90-d641-22d90f13af92"
      },
      "execution_count": 128,
      "outputs": [
        {
          "output_type": "stream",
          "name": "stdout",
          "text": [
            "Requirement already satisfied: datasketch in /usr/local/lib/python3.7/dist-packages (1.5.7)\n",
            "Requirement already satisfied: scipy>=1.0.0 in /usr/local/lib/python3.7/dist-packages (from datasketch) (1.4.1)\n",
            "Requirement already satisfied: numpy>=1.11 in /usr/local/lib/python3.7/dist-packages (from datasketch) (1.21.5)\n"
          ]
        }
      ]
    },
    {
      "cell_type": "code",
      "source": [
        "type(df[\"text\"])"
      ],
      "metadata": {
        "colab": {
          "base_uri": "https://localhost:8080/"
        },
        "id": "Ym_q3xqQmr1E",
        "outputId": "9b3cd066-e02f-44c4-ec64-bcba81742fb6"
      },
      "execution_count": 129,
      "outputs": [
        {
          "output_type": "execute_result",
          "data": {
            "text/plain": [
              "pandas.core.series.Series"
            ]
          },
          "metadata": {},
          "execution_count": 129
        }
      ]
    },
    {
      "cell_type": "code",
      "source": [
        "def get_shingles(text, char_ngram=5):\n",
        "    return set(text[head:head + char_ngram] for head in range(0, len(text) - char_ngram))"
      ],
      "metadata": {
        "id": "-xWGUaZVl-PQ"
      },
      "execution_count": 130,
      "outputs": []
    },
    {
      "cell_type": "code",
      "source": [
        "# useful code snippet from lib documentation page\n",
        "from datasketch import MinHash, MinHashLSH\n",
        "\n",
        "set1 = set(['minhash', 'is', 'a', 'probabilistic', 'data', 'structure', 'for',\n",
        "            'estimating', 'the', 'similarity', 'between', 'datasets'])\n",
        "set2 = set(['minhash', 'is', 'a', 'probability', 'data', 'structure', 'for',\n",
        "            'estimating', 'the', 'similarity', 'between', 'documents'])\n",
        "set3 = set(['minhash', 'is', 'probability', 'data', 'structure', 'for',\n",
        "            'estimating', 'the', 'similarity', 'between', 'documents'])\n",
        "\n",
        "m1 = MinHash(num_perm=128)\n",
        "m2 = MinHash(num_perm=128)\n",
        "m3 = MinHash(num_perm=128)\n",
        "for d in set1:\n",
        "    m1.update(d.encode('utf8'))\n",
        "for d in set2:\n",
        "    m2.update(d.encode('utf8'))\n",
        "for d in set3:\n",
        "    m3.update(d.encode('utf8'))\n",
        "\n",
        "# Create LSH index\n",
        "lsh = MinHashLSH(threshold=0.5, num_perm=128)\n",
        "lsh.insert(\"m2\", m2)\n",
        "lsh.insert(\"m3\", m3)\n",
        "result = lsh.query(m1)\n",
        "print(\"Approximate neighbours with Jaccard similarity > 0.5\", result)"
      ],
      "metadata": {
        "colab": {
          "base_uri": "https://localhost:8080/"
        },
        "id": "6zhEScq4i1Jg",
        "outputId": "fe442659-7584-4919-d6a8-b7c5762c7b68"
      },
      "execution_count": 131,
      "outputs": [
        {
          "output_type": "stream",
          "name": "stdout",
          "text": [
            "Approximate neighbours with Jaccard similarity > 0.5 ['m3', 'm2']\n"
          ]
        }
      ]
    },
    {
      "cell_type": "code",
      "source": [
        "def calc_min_hash(document, num_perm, char_ngrams):\n",
        "    mh = MinHash(num_perm)\n",
        "    for s in get_shingles(document, char_ngrams):\n",
        "        mh.update(s.encode('utf8'))\n",
        "    return mh"
      ],
      "metadata": {
        "id": "uHJh3Ptkjpxq"
      },
      "execution_count": 132,
      "outputs": []
    },
    {
      "cell_type": "code",
      "source": [
        "calc_min_hash(df.loc[2]['text'], 128, 5)"
      ],
      "metadata": {
        "colab": {
          "base_uri": "https://localhost:8080/"
        },
        "id": "e5xg2SJgoEOp",
        "outputId": "f956a292-1686-443d-f4d6-aee80a5f1040"
      },
      "execution_count": 133,
      "outputs": [
        {
          "output_type": "execute_result",
          "data": {
            "text/plain": [
              "<datasketch.minhash.MinHash at 0x7fdadecf4bd0>"
            ]
          },
          "metadata": {},
          "execution_count": 133
        }
      ]
    },
    {
      "cell_type": "code",
      "source": [
        "def create_lsh(texts:pd.Series, num_perm, char_ngrams):\n",
        "    lsh = MinHashLSH(threshold=0.5, num_perm=num_perm)\n",
        "    mhs = []\n",
        "    for i, text in enumerate(texts):\n",
        "        mh = calc_min_hash(text, num_perm, char_ngrams)\n",
        "        mhs.append(mh)\n",
        "        lsh.insert(str(i), mh)\n",
        "    print(f\"Lsh with number of permutations = {num_perm} and shingle size = {char_ngrams} is created\")\n",
        "    return mhs, lsh"
      ],
      "metadata": {
        "id": "nc6r4d1Cm9Bl"
      },
      "execution_count": 136,
      "outputs": []
    },
    {
      "cell_type": "code",
      "source": [
        "mhs, lsh = create_lsh(df.loc[0:5]['text'], 128, 5)"
      ],
      "metadata": {
        "colab": {
          "base_uri": "https://localhost:8080/"
        },
        "id": "tUUHdmuxp6qc",
        "outputId": "b17b449c-4078-4498-dce3-489a530e8ad4"
      },
      "execution_count": 137,
      "outputs": [
        {
          "output_type": "stream",
          "name": "stdout",
          "text": [
            "Lsh with number of permutations = 128 and shingle size = 5 is created\n"
          ]
        }
      ]
    },
    {
      "cell_type": "code",
      "source": [
        "lsh.query(mhs[0])"
      ],
      "metadata": {
        "colab": {
          "base_uri": "https://localhost:8080/"
        },
        "id": "A3Qtqz7ssmRE",
        "outputId": "5bedf8a6-fa34-47c2-c1d2-94d1168f9955"
      },
      "execution_count": 138,
      "outputs": [
        {
          "output_type": "execute_result",
          "data": {
            "text/plain": [
              "['0']"
            ]
          },
          "metadata": {},
          "execution_count": 138
        }
      ]
    },
    {
      "cell_type": "code",
      "source": [
        "def find_duplicates(texts:pd.Series, num_perm=128, char_ngrams=5):\n",
        "    mhs, lsh = create_lsh(texts, num_perm, char_ngrams)\n",
        "    n_dups = 0\n",
        "    for mh in mhs:\n",
        "        dups_list_size = len(lsh.query(mh)) - 1\n",
        "        if dups_list_size > 0:\n",
        "            n_dups += dups_list_size\n",
        "    print(f\"Number of duplicates when number of permutations = {num_perm} and shingle size = {char_ngrams} is approximately equal to {n_dups}\")\n",
        "    return n_dups"
      ],
      "metadata": {
        "id": "QZrDQPXWsID_"
      },
      "execution_count": 141,
      "outputs": []
    },
    {
      "cell_type": "code",
      "source": [
        "# number of duplicates vs shingle size when number of permutations is 128\n",
        "shingle_range = range(2, 12)\n",
        "x_vals = list(shingle_range)\n",
        "y_vals = []\n",
        "for i in shingle_range:\n",
        "    y_vals.append(find_duplicates(df['text'], char_ngrams=i))"
      ],
      "metadata": {
        "colab": {
          "base_uri": "https://localhost:8080/"
        },
        "id": "1RXeCa6gt3WW",
        "outputId": "3a5852a6-4611-41f5-9bb5-4177ef670bc7"
      },
      "execution_count": 142,
      "outputs": [
        {
          "output_type": "stream",
          "name": "stdout",
          "text": [
            "Lsh with number of permutations = 128 and shingle size = 2 is created\n",
            "Number of duplicates when number of permutations = 128 and shingle size = 2 is approximately equal to 943276\n",
            "Lsh with number of permutations = 128 and shingle size = 3 is created\n",
            "Number of duplicates when number of permutations = 128 and shingle size = 3 is approximately equal to 244114\n",
            "Lsh with number of permutations = 128 and shingle size = 4 is created\n",
            "Number of duplicates when number of permutations = 128 and shingle size = 4 is approximately equal to 133744\n",
            "Lsh with number of permutations = 128 and shingle size = 5 is created\n",
            "Number of duplicates when number of permutations = 128 and shingle size = 5 is approximately equal to 128340\n",
            "Lsh with number of permutations = 128 and shingle size = 6 is created\n",
            "Number of duplicates when number of permutations = 128 and shingle size = 6 is approximately equal to 147498\n",
            "Lsh with number of permutations = 128 and shingle size = 7 is created\n",
            "Number of duplicates when number of permutations = 128 and shingle size = 7 is approximately equal to 116716\n",
            "Lsh with number of permutations = 128 and shingle size = 8 is created\n",
            "Number of duplicates when number of permutations = 128 and shingle size = 8 is approximately equal to 104158\n",
            "Lsh with number of permutations = 128 and shingle size = 9 is created\n",
            "Number of duplicates when number of permutations = 128 and shingle size = 9 is approximately equal to 112152\n",
            "Lsh with number of permutations = 128 and shingle size = 10 is created\n",
            "Number of duplicates when number of permutations = 128 and shingle size = 10 is approximately equal to 107938\n",
            "Lsh with number of permutations = 128 and shingle size = 11 is created\n",
            "Number of duplicates when number of permutations = 128 and shingle size = 11 is approximately equal to 66448\n"
          ]
        }
      ]
    },
    {
      "cell_type": "code",
      "source": [
        "y_vals"
      ],
      "metadata": {
        "colab": {
          "base_uri": "https://localhost:8080/"
        },
        "id": "S_d3Y-q4up5k",
        "outputId": "40a898d1-fc9b-425e-9ed3-aec0cad9531e"
      },
      "execution_count": 143,
      "outputs": [
        {
          "output_type": "execute_result",
          "data": {
            "text/plain": [
              "[943276, 244114, 133744, 128340, 147498, 116716, 104158, 112152, 107938, 66448]"
            ]
          },
          "metadata": {},
          "execution_count": 143
        }
      ]
    },
    {
      "cell_type": "code",
      "source": [
        "import matplotlib.pyplot as plt\n",
        "plt.plot(x_vals, y_vals)\n",
        "plt.ylabel('Number of duplicates')\n",
        "plt.xlabel('Shingle size')\n",
        "plt.show()"
      ],
      "metadata": {
        "colab": {
          "base_uri": "https://localhost:8080/",
          "height": 278
        },
        "id": "YisvniFk1lmp",
        "outputId": "2e25ae23-fa32-4726-c376-2cf053f57d4e"
      },
      "execution_count": 147,
      "outputs": [
        {
          "output_type": "display_data",
          "data": {
            "text/plain": [
              "<Figure size 432x288 with 1 Axes>"
            ],
            "image/png": "[encoded data removed]"
          },
          "metadata": {
            "needs_background": "light"
          }
        }
      ]
    },
    {
      "cell_type": "markdown",
      "source": [
        "It is expected dependency, since with longer shingles the probability of false positives decreases obviously. However, with value > 4-5 there is no major difference. And it is consistent with heuristics some experts provide, namely, 5 for small texts (our htmls are quite small) and 10 for bigger documents such as research papers etc. "
      ],
      "metadata": {
        "id": "aRSA-F8M3aO-"
      }
    },
    {
      "cell_type": "code",
      "source": [
        "# number of duplicates vs number of permutations when shingle size is 5\n",
        "perm_range = range(64, 512, 64)\n",
        "x_vals1 = list(perm_range)\n",
        "y_vals1 = []\n",
        "for i in perm_range:\n",
        "    y_vals1.append(find_duplicates(df['text'], num_perm=i))"
      ],
      "metadata": {
        "colab": {
          "base_uri": "https://localhost:8080/"
        },
        "id": "mmOetiFeuxMc",
        "outputId": "dd08b2a5-5b59-4e2d-9383-d22ae2243159"
      },
      "execution_count": 144,
      "outputs": [
        {
          "output_type": "stream",
          "name": "stdout",
          "text": [
            "Lsh with number of permutations = 64 and shingle size = 5 is created\n",
            "Number of duplicates when number of permutations = 64 and shingle size = 5 is approximately equal to 126796\n",
            "Lsh with number of permutations = 128 and shingle size = 5 is created\n",
            "Number of duplicates when number of permutations = 128 and shingle size = 5 is approximately equal to 128340\n",
            "Lsh with number of permutations = 192 and shingle size = 5 is created\n",
            "Number of duplicates when number of permutations = 192 and shingle size = 5 is approximately equal to 99588\n",
            "Lsh with number of permutations = 256 and shingle size = 5 is created\n",
            "Number of duplicates when number of permutations = 256 and shingle size = 5 is approximately equal to 110568\n",
            "Lsh with number of permutations = 320 and shingle size = 5 is created\n",
            "Number of duplicates when number of permutations = 320 and shingle size = 5 is approximately equal to 117892\n",
            "Lsh with number of permutations = 384 and shingle size = 5 is created\n",
            "Number of duplicates when number of permutations = 384 and shingle size = 5 is approximately equal to 118436\n",
            "Lsh with number of permutations = 448 and shingle size = 5 is created\n",
            "Number of duplicates when number of permutations = 448 and shingle size = 5 is approximately equal to 101832\n"
          ]
        }
      ]
    },
    {
      "cell_type": "code",
      "source": [
        "y_vals1"
      ],
      "metadata": {
        "colab": {
          "base_uri": "https://localhost:8080/"
        },
        "id": "WexhDI_7vDd8",
        "outputId": "e1768ce1-0983-4d1f-9822-ebe88439e387"
      },
      "execution_count": 145,
      "outputs": [
        {
          "output_type": "execute_result",
          "data": {
            "text/plain": [
              "[126796, 128340, 99588, 110568, 117892, 118436, 101832]"
            ]
          },
          "metadata": {},
          "execution_count": 145
        }
      ]
    },
    {
      "cell_type": "code",
      "source": [
        "plt.plot(x_vals1, y_vals1)\n",
        "plt.ylabel('Number of duplicates')\n",
        "plt.xlabel('Number of permutations')\n",
        "plt.show()"
      ],
      "metadata": {
        "colab": {
          "base_uri": "https://localhost:8080/",
          "height": 278
        },
        "id": "ZKKYvBex1wtg",
        "outputId": "40a23b80-ed42-4bea-cbfd-d40baf1c7e6d"
      },
      "execution_count": 148,
      "outputs": [
        {
          "output_type": "display_data",
          "data": {
            "text/plain": [
              "<Figure size 432x288 with 1 Axes>"
            ],
            "image/png": "[encoded data removed]"
          },
          "metadata": {
            "needs_background": "light"
          }
        }
      ]
    },
    {
      "cell_type": "markdown",
      "source": [
        "This dependency is interesting, particularly, this outlier at 192. The main idea here that with bigger N we are more confident that documents are duplicates. And with bigger number of duplicates should decrease. In general, we observe downward trend, but range ~ (150, 250) looks optimal since it gives less duplicates (I think at cost of only false positives) with lower computational resources."
      ],
      "metadata": {
        "id": "u4-_fIMC4I7w"
      }
    },
    {
      "cell_type": "code",
      "source": [
        ""
      ],
      "metadata": {
        "id": "TpJSmmZk4EFZ"
      },
      "execution_count": null,
      "outputs": []
    },
    {
      "cell_type": "markdown",
      "source": [
        "# NB: there is just a draft for now. Probably, I'll implement the rest of part 3 later..."
      ],
      "metadata": {
        "id": "0dX4urhZBapI"
      }
    },
    {
      "cell_type": "markdown",
      "metadata": {
        "id": "njdTa1daDMVS"
      },
      "source": [
        "# [Optional 10 points] Part 3. Topic model"
      ]
    },
    {
      "cell_type": "markdown",
      "metadata": {
        "id": "4BwJNkn2DMVT"
      },
      "source": [
        "In this part you will learn how to do topic modeling with common tools and assess the resulting quality of the models. "
      ]
    },
    {
      "cell_type": "code",
      "metadata": {
        "id": "l0WcLMhHDMVT"
      },
      "source": [
        "df2 = pd.read_csv('/content/drive/MyDrive/ANLP/data.csv')"
      ],
      "execution_count": 158,
      "outputs": []
    },
    {
      "cell_type": "markdown",
      "metadata": {
        "id": "WkNFzxqPDMVU"
      },
      "source": [
        "The provided data contain chunked stories by Edgar Allan Poe (EAP), Mary Shelley (MWS), and HP Lovecraft (HPL).\n",
        "\n",
        "The dataset can be downloaded here: `https://drive.google.com/file/d/14tAjAzHr6UmFVFV7ABTyNHBh-dWHAaLH/view?usp=sharing`"
      ]
    },
    {
      "cell_type": "markdown",
      "metadata": {
        "id": "5BNIa1miDMVU"
      },
      "source": [
        "#### Preprocess dataset with the functions from the Part 1"
      ]
    },
    {
      "cell_type": "code",
      "metadata": {
        "id": "9B8PZNRyDMVV",
        "colab": {
          "base_uri": "https://localhost:8080/"
        },
        "outputId": "329e7d16-dd0c-492f-cbd6-e0bd0d2f0971"
      },
      "source": [
        "df2.shape"
      ],
      "execution_count": 152,
      "outputs": [
        {
          "output_type": "execute_result",
          "data": {
            "text/plain": [
              "(19579, 3)"
            ]
          },
          "metadata": {},
          "execution_count": 152
        }
      ]
    },
    {
      "cell_type": "code",
      "source": [
        "df2.head()"
      ],
      "metadata": {
        "colab": {
          "base_uri": "https://localhost:8080/",
          "height": 206
        },
        "id": "E4J4b7RW5ow7",
        "outputId": "31eaa9bf-2597-4785-fd81-b2c7d60d799c"
      },
      "execution_count": 155,
      "outputs": [
        {
          "output_type": "execute_result",
          "data": {
            "text/plain": [
              "        id                                               text author\n",
              "0  id26305  This process, however, afforded me no means of...    EAP\n",
              "1  id17569  It never once occurred to me that the fumbling...    HPL\n",
              "2  id11008  In his left hand was a gold snuff box, from wh...    EAP\n",
              "3  id27763  How lovely is spring As we looked from Windsor...    MWS\n",
              "4  id12958  Finding nothing else, not even gold, the Super...    HPL"
            ],
            "text/html": [
              "\n",
              "  <div id=\"df-a52647fd-efaf-4e79-8811-b447548d2dcd\">\n",
              "    <div class=\"colab-df-container\">\n",
              "      <div>\n",
              "<style scoped>\n",
              "    .dataframe tbody tr th:only-of-type {\n",
              "        vertical-align: middle;\n",
              "    }\n",
              "\n",
              "    .dataframe tbody tr th {\n",
              "        vertical-align: top;\n",
              "    }\n",
              "\n",
              "    .dataframe thead th {\n",
              "        text-align: right;\n",
              "    }\n",
              "</style>\n",
              "<table border=\"1\" class=\"dataframe\">\n",
              "  <thead>\n",
              "    <tr style=\"text-align: right;\">\n",
              "      <th></th>\n",
              "      <th>id</th>\n",
              "      <th>text</th>\n",
              "      <th>author</th>\n",
              "    </tr>\n",
              "  </thead>\n",
              "  <tbody>\n",
              "    <tr>\n",
              "      <th>0</th>\n",
              "      <td>id26305</td>\n",
              "      <td>This process, however, afforded me no means of...</td>\n",
              "      <td>EAP</td>\n",
              "    </tr>\n",
              "    <tr>\n",
              "      <th>1</th>\n",
              "      <td>id17569</td>\n",
              "      <td>It never once occurred to me that the fumbling...</td>\n",
              "      <td>HPL</td>\n",
              "    </tr>\n",
              "    <tr>\n",
              "      <th>2</th>\n",
              "      <td>id11008</td>\n",
              "      <td>In his left hand was a gold snuff box, from wh...</td>\n",
              "      <td>EAP</td>\n",
              "    </tr>\n",
              "    <tr>\n",
              "      <th>3</th>\n",
              "      <td>id27763</td>\n",
              "      <td>How lovely is spring As we looked from Windsor...</td>\n",
              "      <td>MWS</td>\n",
              "    </tr>\n",
              "    <tr>\n",
              "      <th>4</th>\n",
              "      <td>id12958</td>\n",
              "      <td>Finding nothing else, not even gold, the Super...</td>\n",
              "      <td>HPL</td>\n",
              "    </tr>\n",
              "  </tbody>\n",
              "</table>\n",
              "</div>\n",
              "      <button class=\"colab-df-convert\" onclick=\"convertToInteractive('df-a52647fd-efaf-4e79-8811-b447548d2dcd')\"\n",
              "              title=\"Convert this dataframe to an interactive table.\"\n",
              "              style=\"display:none;\">\n",
              "        \n",
              "  <svg xmlns=\"http://www.w3.org/2000/svg\" height=\"24px\"viewBox=\"0 0 24 24\"\n",
              "       width=\"24px\">\n",
              "    <path d=\"M0 0h24v24H0V0z\" fill=\"none\"/>\n",
              "    <path d=\"M18.56 5.44l.94 2.06.94-2.06 2.06-.94-2.06-.94-.94-2.06-.94 2.06-2.06.94zm-11 1L8.5 8.5l.94-2.06 2.06-.94-2.06-.94L8.5 2.5l-.94 2.06-2.06.94zm10 10l.94 2.06.94-2.06 2.06-.94-2.06-.94-.94-2.06-.94 2.06-2.06.94z\"/><path d=\"M17.41 7.96l-1.37-1.37c-.4-.4-.92-.59-1.43-.59-.52 0-1.04.2-1.43.59L10.3 9.45l-7.72 7.72c-.78.78-.78 2.05 0 2.83L4 21.41c.39.39.9.59 1.41.59.51 0 1.02-.2 1.41-.59l7.78-7.78 2.81-2.81c.8-.78.8-2.07 0-2.86zM5.41 20L4 18.59l7.72-7.72 1.47 1.35L5.41 20z\"/>\n",
              "  </svg>\n",
              "      </button>\n",
              "      \n",
              "  <style>\n",
              "    .colab-df-container {\n",
              "      display:flex;\n",
              "      flex-wrap:wrap;\n",
              "      gap: 12px;\n",
              "    }\n",
              "\n",
              "    .colab-df-convert {\n",
              "      background-color: #E8F0FE;\n",
              "      border: none;\n",
              "      border-radius: 50%;\n",
              "      cursor: pointer;\n",
              "      display: none;\n",
              "      fill: #1967D2;\n",
              "      height: 32px;\n",
              "      padding: 0 0 0 0;\n",
              "      width: 32px;\n",
              "    }\n",
              "\n",
              "    .colab-df-convert:hover {\n",
              "      background-color: #E2EBFA;\n",
              "      box-shadow: 0px 1px 2px rgba(60, 64, 67, 0.3), 0px 1px 3px 1px rgba(60, 64, 67, 0.15);\n",
              "      fill: #174EA6;\n",
              "    }\n",
              "\n",
              "    [theme=dark] .colab-df-convert {\n",
              "      background-color: #3B4455;\n",
              "      fill: #D2E3FC;\n",
              "    }\n",
              "\n",
              "    [theme=dark] .colab-df-convert:hover {\n",
              "      background-color: #434B5C;\n",
              "      box-shadow: 0px 1px 3px 1px rgba(0, 0, 0, 0.15);\n",
              "      filter: drop-shadow(0px 1px 2px rgba(0, 0, 0, 0.3));\n",
              "      fill: #FFFFFF;\n",
              "    }\n",
              "  </style>\n",
              "\n",
              "      <script>\n",
              "        const buttonEl =\n",
              "          document.querySelector('#df-a52647fd-efaf-4e79-8811-b447548d2dcd button.colab-df-convert');\n",
              "        buttonEl.style.display =\n",
              "          google.colab.kernel.accessAllowed ? 'block' : 'none';\n",
              "\n",
              "        async function convertToInteractive(key) {\n",
              "          const element = document.querySelector('#df-a52647fd-efaf-4e79-8811-b447548d2dcd');\n",
              "          const dataTable =\n",
              "            await google.colab.kernel.invokeFunction('convertToInteractive',\n",
              "                                                     [key], {});\n",
              "          if (!dataTable) return;\n",
              "\n",
              "          const docLinkHtml = 'Like what you see? Visit the ' +\n",
              "            '<a target=\"_blank\" href=https://colab.research.google.com/notebooks/data_table.ipynb>data table notebook</a>'\n",
              "            + ' to learn more about interactive tables.';\n",
              "          element.innerHTML = '';\n",
              "          dataTable['output_type'] = 'display_data';\n",
              "          await google.colab.output.renderOutput(dataTable, element);\n",
              "          const docLink = document.createElement('div');\n",
              "          docLink.innerHTML = docLinkHtml;\n",
              "          element.appendChild(docLink);\n",
              "        }\n",
              "      </script>\n",
              "    </div>\n",
              "  </div>\n",
              "  "
            ]
          },
          "metadata": {},
          "execution_count": 155
        }
      ]
    },
    {
      "cell_type": "code",
      "source": [
        "df2['text'] = df2['text'].apply(clean_doc)"
      ],
      "metadata": {
        "id": "LNUzvDEM5veY"
      },
      "execution_count": 159,
      "outputs": []
    },
    {
      "cell_type": "code",
      "source": [
        "df2.head()"
      ],
      "metadata": {
        "colab": {
          "base_uri": "https://localhost:8080/",
          "height": 206
        },
        "id": "rMyApE9B51UN",
        "outputId": "36c570f9-15af-4256-ca97-58dac2d676c2"
      },
      "execution_count": 160,
      "outputs": [
        {
          "output_type": "execute_result",
          "data": {
            "text/plain": [
              "        id                                               text author\n",
              "0  id26305  process however afforded mean ascertaining dim...    EAP\n",
              "1  id17569         never occurred fumbling might mere mistake    HPL\n",
              "2  id11008  left hand wa gold snuff box capered hill cutti...    EAP\n",
              "3  id27763  lovely spring looked windsor terrace sixteen f...    MWS\n",
              "4  id12958  finding nothing else even gold superintendent ...    HPL"
            ],
            "text/html": [
              "\n",
              "  <div id=\"df-ac47d503-d8a8-4e3f-a84e-46fabdaf0999\">\n",
              "    <div class=\"colab-df-container\">\n",
              "      <div>\n",
              "<style scoped>\n",
              "    .dataframe tbody tr th:only-of-type {\n",
              "        vertical-align: middle;\n",
              "    }\n",
              "\n",
              "    .dataframe tbody tr th {\n",
              "        vertical-align: top;\n",
              "    }\n",
              "\n",
              "    .dataframe thead th {\n",
              "        text-align: right;\n",
              "    }\n",
              "</style>\n",
              "<table border=\"1\" class=\"dataframe\">\n",
              "  <thead>\n",
              "    <tr style=\"text-align: right;\">\n",
              "      <th></th>\n",
              "      <th>id</th>\n",
              "      <th>text</th>\n",
              "      <th>author</th>\n",
              "    </tr>\n",
              "  </thead>\n",
              "  <tbody>\n",
              "    <tr>\n",
              "      <th>0</th>\n",
              "      <td>id26305</td>\n",
              "      <td>process however afforded mean ascertaining dim...</td>\n",
              "      <td>EAP</td>\n",
              "    </tr>\n",
              "    <tr>\n",
              "      <th>1</th>\n",
              "      <td>id17569</td>\n",
              "      <td>never occurred fumbling might mere mistake</td>\n",
              "      <td>HPL</td>\n",
              "    </tr>\n",
              "    <tr>\n",
              "      <th>2</th>\n",
              "      <td>id11008</td>\n",
              "      <td>left hand wa gold snuff box capered hill cutti...</td>\n",
              "      <td>EAP</td>\n",
              "    </tr>\n",
              "    <tr>\n",
              "      <th>3</th>\n",
              "      <td>id27763</td>\n",
              "      <td>lovely spring looked windsor terrace sixteen f...</td>\n",
              "      <td>MWS</td>\n",
              "    </tr>\n",
              "    <tr>\n",
              "      <th>4</th>\n",
              "      <td>id12958</td>\n",
              "      <td>finding nothing else even gold superintendent ...</td>\n",
              "      <td>HPL</td>\n",
              "    </tr>\n",
              "  </tbody>\n",
              "</table>\n",
              "</div>\n",
              "      <button class=\"colab-df-convert\" onclick=\"convertToInteractive('df-ac47d503-d8a8-4e3f-a84e-46fabdaf0999')\"\n",
              "              title=\"Convert this dataframe to an interactive table.\"\n",
              "              style=\"display:none;\">\n",
              "        \n",
              "  <svg xmlns=\"http://www.w3.org/2000/svg\" height=\"24px\"viewBox=\"0 0 24 24\"\n",
              "       width=\"24px\">\n",
              "    <path d=\"M0 0h24v24H0V0z\" fill=\"none\"/>\n",
              "    <path d=\"M18.56 5.44l.94 2.06.94-2.06 2.06-.94-2.06-.94-.94-2.06-.94 2.06-2.06.94zm-11 1L8.5 8.5l.94-2.06 2.06-.94-2.06-.94L8.5 2.5l-.94 2.06-2.06.94zm10 10l.94 2.06.94-2.06 2.06-.94-2.06-.94-.94-2.06-.94 2.06-2.06.94z\"/><path d=\"M17.41 7.96l-1.37-1.37c-.4-.4-.92-.59-1.43-.59-.52 0-1.04.2-1.43.59L10.3 9.45l-7.72 7.72c-.78.78-.78 2.05 0 2.83L4 21.41c.39.39.9.59 1.41.59.51 0 1.02-.2 1.41-.59l7.78-7.78 2.81-2.81c.8-.78.8-2.07 0-2.86zM5.41 20L4 18.59l7.72-7.72 1.47 1.35L5.41 20z\"/>\n",
              "  </svg>\n",
              "      </button>\n",
              "      \n",
              "  <style>\n",
              "    .colab-df-container {\n",
              "      display:flex;\n",
              "      flex-wrap:wrap;\n",
              "      gap: 12px;\n",
              "    }\n",
              "\n",
              "    .colab-df-convert {\n",
              "      background-color: #E8F0FE;\n",
              "      border: none;\n",
              "      border-radius: 50%;\n",
              "      cursor: pointer;\n",
              "      display: none;\n",
              "      fill: #1967D2;\n",
              "      height: 32px;\n",
              "      padding: 0 0 0 0;\n",
              "      width: 32px;\n",
              "    }\n",
              "\n",
              "    .colab-df-convert:hover {\n",
              "      background-color: #E2EBFA;\n",
              "      box-shadow: 0px 1px 2px rgba(60, 64, 67, 0.3), 0px 1px 3px 1px rgba(60, 64, 67, 0.15);\n",
              "      fill: #174EA6;\n",
              "    }\n",
              "\n",
              "    [theme=dark] .colab-df-convert {\n",
              "      background-color: #3B4455;\n",
              "      fill: #D2E3FC;\n",
              "    }\n",
              "\n",
              "    [theme=dark] .colab-df-convert:hover {\n",
              "      background-color: #434B5C;\n",
              "      box-shadow: 0px 1px 3px 1px rgba(0, 0, 0, 0.15);\n",
              "      filter: drop-shadow(0px 1px 2px rgba(0, 0, 0, 0.3));\n",
              "      fill: #FFFFFF;\n",
              "    }\n",
              "  </style>\n",
              "\n",
              "      <script>\n",
              "        const buttonEl =\n",
              "          document.querySelector('#df-ac47d503-d8a8-4e3f-a84e-46fabdaf0999 button.colab-df-convert');\n",
              "        buttonEl.style.display =\n",
              "          google.colab.kernel.accessAllowed ? 'block' : 'none';\n",
              "\n",
              "        async function convertToInteractive(key) {\n",
              "          const element = document.querySelector('#df-ac47d503-d8a8-4e3f-a84e-46fabdaf0999');\n",
              "          const dataTable =\n",
              "            await google.colab.kernel.invokeFunction('convertToInteractive',\n",
              "                                                     [key], {});\n",
              "          if (!dataTable) return;\n",
              "\n",
              "          const docLinkHtml = 'Like what you see? Visit the ' +\n",
              "            '<a target=\"_blank\" href=https://colab.research.google.com/notebooks/data_table.ipynb>data table notebook</a>'\n",
              "            + ' to learn more about interactive tables.';\n",
              "          element.innerHTML = '';\n",
              "          dataTable['output_type'] = 'display_data';\n",
              "          await google.colab.output.renderOutput(dataTable, element);\n",
              "          const docLink = document.createElement('div');\n",
              "          docLink.innerHTML = docLinkHtml;\n",
              "          element.appendChild(docLink);\n",
              "        }\n",
              "      </script>\n",
              "    </div>\n",
              "  </div>\n",
              "  "
            ]
          },
          "metadata": {},
          "execution_count": 160
        }
      ]
    },
    {
      "cell_type": "markdown",
      "metadata": {
        "id": "qKU2D29CDMVV"
      },
      "source": [
        "#### Quality estimation"
      ]
    },
    {
      "cell_type": "markdown",
      "metadata": {
        "id": "l6xfd3vpDMVW"
      },
      "source": [
        "Implement the following three quality fuctions: `coherence` (or `tf-idf coherence`), `normalized PMI`, `based on the distributed word representation`(you can use pretrained w2v vectors or some other model). You are free to use any libraries (for instance gensim) and components."
      ]
    },
    {
      "cell_type": "code",
      "metadata": {
        "id": "AEtv-gWcDMVW"
      },
      "source": [
        "import sklearn.metrics.normalized_mutual_info_score as n_PMI\n"
      ],
      "execution_count": null,
      "outputs": []
    },
    {
      "cell_type": "markdown",
      "metadata": {
        "id": "Kp1jTJmPDMVX"
      },
      "source": [
        "### Topic modeling"
      ]
    },
    {
      "cell_type": "markdown",
      "metadata": {
        "id": "lgbVtgphDMVX"
      },
      "source": [
        "Read and preprocess the dataset, divide it into train and test parts `sklearn.model_selection.train_test_split`. Test part will be used in classification part. For simplicity we do not perform cross-validation here, but you should remember about it."
      ]
    },
    {
      "cell_type": "code",
      "metadata": {
        "id": "_Uh0J_C8DMVY"
      },
      "source": [
        "from sklearn.model_selection import train_test_split"
      ],
      "execution_count": 161,
      "outputs": []
    },
    {
      "cell_type": "code",
      "source": [
        "X = df2['text']\n",
        "y = df2['author']"
      ],
      "metadata": {
        "id": "OSFGiL8c6wRO"
      },
      "execution_count": 162,
      "outputs": []
    },
    {
      "cell_type": "code",
      "source": [
        "X_train, X_test, y_train, y_test = train_test_split(X, y, test_size=0.25, random_state=42)"
      ],
      "metadata": {
        "id": "CgIYbHEL6nLi"
      },
      "execution_count": 163,
      "outputs": []
    },
    {
      "cell_type": "code",
      "source": [
        "def top_k(series: pd.Series, k=100):\n",
        "    from collections import Counter\n",
        "    terms = ' '.join(series).split()\n",
        "    counter = Counter(terms)\n",
        "    return counter.most_common(k)\n"
      ],
      "metadata": {
        "id": "SJasbfq864Pl"
      },
      "execution_count": 166,
      "outputs": []
    },
    {
      "cell_type": "code",
      "source": [
        "train_freq = top_k(X_train)\n",
        "test_freq = top_k(X_test)"
      ],
      "metadata": {
        "id": "Laquui_Z9CpO"
      },
      "execution_count": 167,
      "outputs": []
    },
    {
      "cell_type": "markdown",
      "metadata": {
        "id": "rNepVz1wDMVY"
      },
      "source": [
        "Plot the histogram of resulting tokens counts in the processed datasets."
      ]
    },
    {
      "cell_type": "code",
      "metadata": {
        "id": "L_7JVEfbDMVZ",
        "colab": {
          "base_uri": "https://localhost:8080/",
          "height": 424
        },
        "outputId": "4a5b1937-64bf-4ed2-de55-72825b94adfc"
      },
      "source": [
        "import matplotlib.pyplot as plt\n",
        "plt.figure(figsize=(16, 6))\n",
        "plt.bar(range(len(train_freq)), [val[1] for val in train_freq], align='center')\n",
        "plt.xticks(range(len(train_freq)), [val[0] for val in train_freq])\n",
        "plt.xticks(rotation=70)\n",
        "plt.title(\"Top 100 in train dataset\")\n",
        "plt.show()"
      ],
      "execution_count": 168,
      "outputs": [
        {
          "output_type": "display_data",
          "data": {
            "text/plain": [
              "<Figure size 1152x432 with 1 Axes>"
            ],
            "image/png": "[encoded data removed]"
          },
          "metadata": {
            "needs_background": "light"
          }
        }
      ]
    },
    {
      "cell_type": "code",
      "source": [
        "import matplotlib.pyplot as plt\n",
        "plt.figure(figsize=(16, 6))\n",
        "plt.bar(range(len(test_freq)), [val[1] for val in test_freq], align='center')\n",
        "plt.xticks(range(len(test_freq)), [val[0] for val in test_freq])\n",
        "plt.xticks(rotation=70)\n",
        "plt.title(\"Top 100 in test dataset\")\n",
        "plt.show()"
      ],
      "metadata": {
        "colab": {
          "base_uri": "https://localhost:8080/",
          "height": 424
        },
        "id": "0jsv6mpO9kmx",
        "outputId": "887b8ed5-5e72-4c10-f432-e23dbe0122a6"
      },
      "execution_count": 170,
      "outputs": [
        {
          "output_type": "display_data",
          "data": {
            "text/plain": [
              "<Figure size 1152x432 with 1 Axes>"
            ],
            "image/png": "[encoded data removed]"
          },
          "metadata": {
            "needs_background": "light"
          }
        }
      ]
    },
    {
      "cell_type": "markdown",
      "metadata": {
        "id": "ulOjNL9vDMVZ"
      },
      "source": [
        "Plot the histogram of resulting tokens counts in the processed datasets."
      ]
    },
    {
      "cell_type": "markdown",
      "metadata": {
        "id": "4N86AaGNDMVa"
      },
      "source": [
        "#### NMF"
      ]
    },
    {
      "cell_type": "markdown",
      "metadata": {
        "id": "kPelcAFQDMVa"
      },
      "source": [
        "Implement topic modeling with NMF (you can use `sklearn.decomposition.NMF`) and print out resulting topics. Try to change hyperparameters to better fit the dataset."
      ]
    },
    {
      "cell_type": "code",
      "metadata": {
        "id": "DCPzCMMMDMVa"
      },
      "source": [
        "from sklearn.decomposition import NMF"
      ],
      "execution_count": 171,
      "outputs": []
    },
    {
      "cell_type": "code",
      "source": [
        ""
      ],
      "metadata": {
        "id": "wZuDwLlq94rD"
      },
      "execution_count": null,
      "outputs": []
    },
    {
      "cell_type": "markdown",
      "metadata": {
        "id": "zuaKAGIWDMVb"
      },
      "source": [
        "#### LDA"
      ]
    },
    {
      "cell_type": "markdown",
      "metadata": {
        "id": "PAK_MfQxDMVb"
      },
      "source": [
        "Implement topic modeling with LDA (you can use gensim implementation) and print out resulting topics. Try to change hyperparameters to better fit the dataset."
      ]
    },
    {
      "cell_type": "code",
      "metadata": {
        "id": "fdzopuCJDMVb"
      },
      "source": [
        "from sklearn.decomposition import LatentDirichletAllocation"
      ],
      "execution_count": 172,
      "outputs": []
    },
    {
      "cell_type": "markdown",
      "metadata": {
        "id": "vSF6fq0NDMVc"
      },
      "source": [
        "### Additive regularization of topic models "
      ]
    },
    {
      "cell_type": "markdown",
      "metadata": {
        "id": "tVcA4itQDMVc"
      },
      "source": [
        "Implement topic modeling with ARTM. You may use bigartm library (simple installation for linux: pip install bigartm) or TopicNet framework (`https://github.com/machine-intelligence-laboratory/TopicNet`)"
      ]
    },
    {
      "cell_type": "markdown",
      "metadata": {
        "id": "03xhr0PmDMVc"
      },
      "source": [
        "Create artm topic model fit it to the data. Try to change hyperparameters (number of specific and background topics) to better fit the dataset. Play with smoothing and sparsing coefficients (use grid), try to add decorrelator. Print out resulting topics."
      ]
    },
    {
      "cell_type": "code",
      "metadata": {
        "id": "tgv1qIUZDMVc"
      },
      "source": [
        ""
      ],
      "execution_count": null,
      "outputs": []
    },
    {
      "cell_type": "markdown",
      "metadata": {
        "id": "mteOYV8TDMVd"
      },
      "source": [
        "Write a function to convert new documents to topics probabilities vectors."
      ]
    },
    {
      "cell_type": "code",
      "metadata": {
        "id": "IGkD9YaxDMVd"
      },
      "source": [
        ""
      ],
      "execution_count": null,
      "outputs": []
    },
    {
      "cell_type": "markdown",
      "metadata": {
        "id": "SPrNOdMLDMVd"
      },
      "source": [
        "Calculate the quality scores for each model. Make a barplot to compare the quality."
      ]
    },
    {
      "cell_type": "code",
      "metadata": {
        "id": "hQadAQCXDMVd"
      },
      "source": [
        ""
      ],
      "execution_count": null,
      "outputs": []
    }
  ]
}